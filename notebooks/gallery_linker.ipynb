{
 "cells": [
  {
   "cell_type": "markdown",
   "id": "5f0db3df",
   "metadata": {},
   "source": [
    "# Gallery Linker Notebook\n",
    "\n",
    "## References\n",
    "\n",
    "- [stashdb-performer-gallery](../../gh-stashapp/CommunityScripts/plugins/stashdb-performer-gallery/stashdb-performer-gallery.py)"
   ]
  },
  {
   "cell_type": "code",
   "execution_count": 1,
   "id": "3930ce03",
   "metadata": {},
   "outputs": [],
   "source": [
    "import stashapi.log as log\n",
    "from stashapi.stashapp import StashInterface\n",
    "from stashapi.stashbox import StashBoxInterface\n",
    "import os\n",
    "import sys\n",
    "import requests\n",
    "import json\n",
    "import requests\n",
    "from pathlib import Path\n",
    "import base64\n",
    "from urllib.parse import urlparse\n",
    "from dataclasses import dataclass, field, asdict\n",
    "from typing import Optional, List, Dict, Any"
   ]
  },
  {
   "cell_type": "code",
   "execution_count": 2,
   "id": "b7ee1081",
   "metadata": {},
   "outputs": [],
   "source": [
    "per_page = 100\n",
    "request_s = requests.Session()\n",
    "stash_boxes = {}\n",
    "scrapers = {}"
   ]
  },
  {
   "cell_type": "code",
   "execution_count": 10,
   "id": "ddcc8f16",
   "metadata": {},
   "outputs": [
    {
     "name": "stderr",
     "output_type": "stream",
     "text": [
      "\u0001d\u0002Using stash (v0.28.1-0) endpoint at http://localhost:9999/graphql\n"
     ]
    }
   ],
   "source": [
    "def build_default_config() -> dict:\n",
    "    \"\"\"Build default Stash connection configuration.\"\"\"\n",
    "    return {\"scheme\": \"http\", \"host\": \"localhost\", \"port\": \"9999\"}\n",
    "\n",
    "\n",
    "def update_config_from_params(config: dict, stash_url: str | None, api_key: str | None) -> None:\n",
    "    \"\"\"Update configuration with provided URL and API key.\"\"\"\n",
    "    if stash_url:\n",
    "        parsed = urlparse(stash_url)\n",
    "        config.update(\n",
    "            {\n",
    "                \"scheme\": parsed.scheme or \"http\",\n",
    "                \"host\": parsed.hostname or \"localhost\",\n",
    "                \"port\": str(parsed.port or 9999),\n",
    "            }\n",
    "        )\n",
    "    if api_key:\n",
    "        config[\"ApiKey\"] = api_key\n",
    "\n",
    "stash = StashInterface()\n",
    "config = stash.get_configuration()"
   ]
  },
  {
   "cell_type": "code",
   "execution_count": 4,
   "id": "2a873675",
   "metadata": {},
   "outputs": [],
   "source": [
    "# Linking statistics dataclasses\n",
    "@dataclass\n",
    "class LinkingStat:\n",
    "    count: int = 0\n",
    "    without_galleries: int | None = field(default=None, metadata={\"help\": \"Number of items without galleries\"})\n",
    "    without_performers: int | None = field(default=None, metadata={\"help\": \"Number of items without performers\"})\n",
    "    without_scenes: int | None = field(default=None, metadata={\"help\": \"Number of items without scenes\"})\n",
    "\n",
    "\n",
    "class SceneStats(LinkingStat):\n",
    "    def __post_init__(self):\n",
    "        self.without_scenes = None\n",
    "        if self.without_performers is None:\n",
    "            self.without_performers = 0\n",
    "        if self.without_galleries is None:\n",
    "            self.without_galleries = 0\n",
    "\n",
    "\n",
    "class PerformerStats(LinkingStat):\n",
    "    def __post_init__(self):\n",
    "        self.without_performers = None\n",
    "        if self.without_scenes is None:\n",
    "            self.without_scenes = 0\n",
    "        if self.without_galleries is None:\n",
    "            self.without_galleries = 0\n",
    "\n",
    "\n",
    "class GalleryStats(LinkingStat):\n",
    "    def __post_init__(self):\n",
    "        self.without_galleries = None\n",
    "        if self.without_performers is None:\n",
    "            self.without_performers = 0\n",
    "        if self.without_scenes is None:\n",
    "            self.without_scenes = 0\n",
    "\n",
    "\n",
    "@dataclass\n",
    "class LinkingTotals:\n",
    "    scenes: SceneStats\n",
    "    performers: PerformerStats\n",
    "    galleries: GalleryStats\n",
    "\n"
   ]
  },
  {
   "cell_type": "code",
   "execution_count": 5,
   "id": "517a894b",
   "metadata": {},
   "outputs": [],
   "source": [
    "class Filters:\n",
    "    @staticmethod\n",
    "    def null_galleries(): return  {\"galleries\": {\"modifier\": \"IS_NULL\"}}\n",
    "    @staticmethod\n",
    "    def null_performers(): return {\"performers\": {\"modifier\": \"IS_NULL\"}}\n",
    "    @staticmethod\n",
    "    def null_scenes(): return {\"scenes\": {\"modifier\": \"IS_NULL\"}}\n",
    "\n",
    "FILTERS = Filters()"
   ]
  },
  {
   "cell_type": "code",
   "execution_count": 6,
   "id": "d7153319",
   "metadata": {},
   "outputs": [
    {
     "name": "stdout",
     "output_type": "stream",
     "text": [
      "LinkingTotals(scenes=SceneStats(count=0, without_galleries=None, without_performers=None, without_scenes=None), performers=PerformerStats(count=0, without_galleries=None, without_performers=None, without_scenes=None), galleries=GalleryStats(count=3, without_galleries=None, without_performers=None, without_scenes=None))\n"
     ]
    }
   ],
   "source": [
    "def get_totals(stash:StashInterface) -> LinkingTotals:\n",
    "    totals = LinkingTotals(scenes=SceneStats(), performers=PerformerStats(), galleries=GalleryStats())\n",
    "    totals.galleries.count = stash.find_galleries(get_count=True)[0]\n",
    "    return totals\n",
    "\n",
    "totals = get_totals(stash)\n",
    "# print(totals)"
   ]
  },
  {
   "cell_type": "code",
   "execution_count": null,
   "id": "2fc63ea3",
   "metadata": {},
   "outputs": [
    {
     "data": {
      "text/plain": [
       "4"
      ]
     },
     "execution_count": 7,
     "metadata": {},
     "output_type": "execute_result"
    }
   ],
   "source": [
    "def get_scenes_without_galleries(stash: StashInterface):\n",
    "    \"\"\"Retrieve the number of scenes without associated galleries.\"\"\"\n",
    "    return stash.find_scenes(\n",
    "        f=FILTERS.null_galleries(), get_count=True\n",
    "    )[0]\n",
    "\n",
    "get_scenes_without_galleries(stash)\n",
    "# print(f\"Num of scenes without galleries: {get_num_scenes_without_galleries(stash)}\")\n"
   ]
  },
  {
   "cell_type": "markdown",
   "id": "f678b762",
   "metadata": {},
   "source": [
    "### CHECKOUT [Ariadne: GraphQL Codegen](https://github.com/mirumee/ariadne-codegen)"
   ]
  },
  {
   "cell_type": "markdown",
   "id": "71fc890f",
   "metadata": {},
   "source": [
    "Query: \n",
    "```graphql\n",
    "query MissingLinks(\n",
    "  $sceneWOGalleryfilter: SceneFilterType\n",
    "  $sceneWOPerformersfilter: SceneFilterType\n",
    "  $galleryWOPerformerFilter: GalleryFilterType\n",
    "  $performerWOGalleryFilter: PerformerFilterType\n",
    "  $performerWOSceneFilter: PerformerFilterType\n",
    "  $galleryWOSceneFilter:GalleryFilterType) {\n",
    "    scenesMissingGalleries: findScenes(scene_filter: $sceneWOGalleryfilter) {\n",
    "      count\n",
    "    }\n",
    "    scenesMissingPerformers: findScenes(scene_filter: $sceneWOPerformersfilter) {\n",
    "      count\n",
    "    }\n",
    "    galleriesMissingPerformers: findGalleries(gallery_filter:$galleryWOPerformerFilter){\n",
    "      count\n",
    "    }\n",
    "    galleriesMissingScenes: findGalleries(gallery_filter:$galleryWOSceneFilter){\n",
    "      count\n",
    "    }\n",
    "    performersMissingScenes: findPerformers(performer_filter: $performerWOSceneFilter){\n",
    "      count\n",
    "    }\n",
    "    performersMissingGalleries: findPerformers(performer_filter: $performerWOGalleryFilter){\n",
    "      count\n",
    "    }\n",
    "}\n",
    "```\n",
    "\n",
    "Variables:\n",
    "\n",
    "```gql\n",
    "{\n",
    "  \"sceneWOGalleryfilter\": {\n",
    "    \"galleries\": {\n",
    "      \"value\": 0, \"modifier\": \"EQUALS\"\n",
    "    }},\n",
    "  \"sceneWOPerformersfilter\": {\n",
    "    \"performer_count\": {\n",
    "      \"value\": 0, \"modifier\": \"EQUALS\"\n",
    "    }},\n",
    "  \"galleryWOSceneFilter\":{\n",
    "    \"scenes\": {\n",
    "      \"value\": 0, \"modifier\": \"EQUALS\"\n",
    "    }},\n",
    "  \"galleryWOPerformerFilter\": {\n",
    "    \"performer_count\": {\n",
    "      \"value\": 0, \"modifier\": \"EQUALS\"\n",
    "    }},\n",
    "  \"performerWOGalleryFilter\": {\n",
    "    \"gallery_count\": {\n",
    "      \"value\": 0, \"modifier\": \"EQUALS\"\n",
    "    }},\n",
    "  \"performerWOSceneFilter\": {\n",
    "    \"gallery_count\": {\n",
    "      \"value\": 0, \"modifier\": \"EQUALS\"\n",
    "    }}\n",
    "}\n",
    "```"
   ]
  },
  {
   "cell_type": "code",
   "execution_count": 8,
   "id": "638200bd",
   "metadata": {},
   "outputs": [],
   "source": [
    "def get_missing_links(stash):\n",
    "    \"\"\"Identify missing links between galleries and scenes/performers.\"\"\"\n",
    "    galleries = stash.find_galleries(filter=FILTERS.null_galleries())\n",
    "    scenes = stash.find_scenes(filter=FILTERS.null_scenes())\n",
    "    performers = stash.find_performers(filter=FILTERS.null_performers())\n",
    "\n",
    "    missing_links = {\n",
    "        \"galleries_without_scenes\": [],\n",
    "        \"galleries_without_performers\": [],\n",
    "        \"scenes_without_galleries\": [],\n",
    "        \"scenes_without_performers\": [],\n",
    "        \"performers_without_galleries\": [],\n",
    "        \"performers_without_scenes\": [],\n",
    "    }\n",
    "\n",
    "    for gallery in galleries:\n",
    "        if not gallery.get(\"scenes\"):\n",
    "            missing_links[\"galleries_without_scenes\"].append(gallery)\n",
    "        if not gallery.get(\"performers\"):\n",
    "            missing_links[\"galleries_without_performers\"].append(gallery)\n",
    "    for scene in scenes:\n",
    "        if not scene.get(\"gallery\"):\n",
    "            missing_links[\"scenes_without_galleries\"].append(scene)\n",
    "        if not scene.get(\"performers\"):\n",
    "            missing_links[\"scenes_without_performers\"].append(scene)\n",
    "    for performer in performers:\n",
    "        if not performer.get(\"galleries\"):\n",
    "            missing_links[\"performers_without_galleries\"].append(performer)\n",
    "        if not performer.get(\"scenes\"):\n",
    "            missing_links[\"performers_without_scenes\"].append(performer)\n",
    "\n",
    "    return missing_links, galleries, scenes, performers"
   ]
  },
  {
   "cell_type": "code",
   "execution_count": 12,
   "id": "f89e5ef2",
   "metadata": {},
   "outputs": [],
   "source": [
    "#ml, gl, sc, pf = get_missing_links(stash)\n",
    "# print(json.dumps(ml, indent=2, separators=(',', ': ')))\n",
    "#print(\"galleries\", json.dumps(gl, indent=2, separators=(',', ': ')))\n",
    "#print(\"scenes\", json.dumps(sc, indent=2, separators=(',', ': ')))\n",
    "#print(\"performers\", json.dumps(pf, indent=2, separators=(',', ': ')))"
   ]
  }
 ],
 "metadata": {
  "kernelspec": {
   "display_name": "stash-plugins",
   "language": "python",
   "name": "python3"
  },
  "language_info": {
   "codemirror_mode": {
    "name": "ipython",
    "version": 3
   },
   "file_extension": ".py",
   "mimetype": "text/x-python",
   "name": "python",
   "nbconvert_exporter": "python",
   "pygments_lexer": "ipython3",
   "version": "3.12.2"
  }
 },
 "nbformat": 4,
 "nbformat_minor": 5
}
