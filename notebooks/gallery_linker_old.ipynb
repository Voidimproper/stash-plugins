{
 "cells": [
  {
   "cell_type": "code",
   "execution_count": 2,
   "id": "3068971e",
   "metadata": {},
   "outputs": [
    {
     "name": "stdout",
     "output_type": "stream",
     "text": [
      "GalleryLinker is importable\n",
      "void_common is importable\n"
     ]
    }
   ],
   "source": [
    "import sys, os\n",
    "from dataclasses import asdict\n",
    "from stashapi.stashapp import StashInterface\n",
    "import importlib.util\n",
    "import json\n",
    "from pprint import pprint\n",
    "\n",
    "sys.path.append(os.path.abspath(\n",
    "    os.path.join(os.getcwd(), \n",
    "                 'plugins'\n",
    "                 )))\n",
    "\n",
    "if importlib.util.find_spec(\"GalleryLinker\"):\n",
    "    print(\"GalleryLinker is importable\")\n",
    "    from GalleryLinker import GalleryLinker, util, datatypes, gallery_linker\n",
    "else:\n",
    "    print(\"GalleryLinker is NOT importable\")\n",
    "\n",
    "if importlib.util.find_spec(\"void_common\"):\n",
    "    print(\"void_common is importable\")\n",
    "    from void_common import models\n",
    "else:\n",
    "    print(\"void_common is NOT importable\")\n"
   ]
  },
  {
   "cell_type": "code",
   "execution_count": 3,
   "id": "c2538c9d",
   "metadata": {},
   "outputs": [],
   "source": [
    "linker = GalleryLinker()\n",
    "settings = asdict(datatypes.SettingsSchema(debugTracing=True,dryRun=True))\n",
    "linker.load_settings(settings)"
   ]
  },
  {
   "cell_type": "code",
   "execution_count": 4,
   "id": "ce5db1bb",
   "metadata": {},
   "outputs": [
    {
     "name": "stdout",
     "output_type": "stream",
     "text": [
      "Found 4 scenes\n"
     ]
    }
   ],
   "source": [
    "scenes = linker.stash.find_scenes()\n",
    "print(f\"Found {len(scenes)} scenes\")\n",
    "# print(f\"Scenes: {json.dumps(scenes[0], indent=2, separators=(',', ': '))}\")"
   ]
  },
  {
   "cell_type": "code",
   "execution_count": 5,
   "id": "ecd2c255",
   "metadata": {},
   "outputs": [
    {
     "name": "stdout",
     "output_type": "stream",
     "text": [
      "Found 10 performers\n"
     ]
    }
   ],
   "source": [
    "performers = linker.stash.find_performers()\n",
    "print(f\"Found {len(performers)} performers\")\n",
    "# print(f\"Performers: {json.dumps(performers[0], indent=2, separators=(',', ': '))}\")\n"
   ]
  },
  {
   "cell_type": "code",
   "execution_count": 6,
   "id": "59668e15",
   "metadata": {},
   "outputs": [],
   "source": [
    "performer = linker.stash.find_performer(performer={'name': 'Abella Danger'})"
   ]
  }
 ],
 "metadata": {
  "kernelspec": {
   "display_name": "stash-plugins",
   "language": "python",
   "name": "python3"
  },
  "language_info": {
   "codemirror_mode": {
    "name": "ipython",
    "version": 3
   },
   "file_extension": ".py",
   "mimetype": "text/x-python",
   "name": "python",
   "nbconvert_exporter": "python",
   "pygments_lexer": "ipython3",
   "version": "3.12.2"
  }
 },
 "nbformat": 4,
 "nbformat_minor": 5
}
